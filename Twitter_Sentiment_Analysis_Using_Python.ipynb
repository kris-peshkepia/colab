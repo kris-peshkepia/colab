{
  "nbformat": 4,
  "nbformat_minor": 0,
  "metadata": {
    "colab": {
      "name": "Twitter Sentiment Analysis Using Python.ipynb",
      "provenance": [],
      "authorship_tag": "ABX9TyPusgOPO2n7aT7t1ZVb4rZQ",
      "include_colab_link": true
    },
    "kernelspec": {
      "name": "python3",
      "display_name": "Python 3"
    }
  },
  "cells": [
    {
      "cell_type": "markdown",
      "metadata": {
        "id": "view-in-github",
        "colab_type": "text"
      },
      "source": [
        "<a href=\"https://colab.research.google.com/github/kris-peshkepia/colab/blob/main/Twitter_Sentiment_Analysis_Using_Python.ipynb\" target=\"_parent\"><img src=\"https://colab.research.google.com/assets/colab-badge.svg\" alt=\"Open In Colab\"/></a>"
      ]
    },
    {
      "cell_type": "markdown",
      "metadata": {
        "id": "fNygVYGEM3-A"
      },
      "source": [
        "Reference article & YouTube Video:\r\n",
        "\r\n",
        "https://medium.com/better-programming/twitter-sentiment-analysis-15d8892c0082\r\n",
        "\r\n",
        "https://youtu.be/ujId4ipkBio\r\n",
        "\r\n",
        "# **Twitter Sentiment Analysis Using Python**\r\n",
        "\r\n",
        "> Description: This is a sentiment analysis program that parses the tweets fetched from Twitter using Python\r\n"
      ]
    },
    {
      "cell_type": "code",
      "metadata": {
        "id": "TVoMkICoLSsP"
      },
      "source": [
        "# Import the libraries\r\n",
        "import tweepy\r\n",
        "from textblob import TextBlob\r\n",
        "from wordcloud import WordCloud\r\n",
        "import pandas as pd\r\n",
        "import numpy as np\r\n",
        "import re\r\n",
        "import matplotlib.pyplot as plt\r\n",
        "plt.style.use('fivethirtyeight')\r\n"
      ],
      "execution_count": 2,
      "outputs": []
    },
    {
      "cell_type": "code",
      "metadata": {
        "id": "s3miG23hQix4",
        "colab": {
          "base_uri": "https://localhost:8080/"
        },
        "outputId": "f4dcf9db-cf49-41ec-90c2-49be12938de3"
      },
      "source": [
        "# Load the data\r\n",
        "# from google.colab import files\r\n",
        "# uploaded = files.upload()\r\n",
        "\r\n",
        "from google.colab import drive\r\n",
        "drive.mount('/content/drive')\r\n",
        "\r\n"
      ],
      "execution_count": 8,
      "outputs": [
        {
          "output_type": "stream",
          "text": [
            "Drive already mounted at /content/drive; to attempt to forcibly remount, call drive.mount(\"/content/drive\", force_remount=True).\n"
          ],
          "name": "stdout"
        }
      ]
    },
    {
      "cell_type": "code",
      "metadata": {
        "id": "E_RMic4PLQ7T"
      },
      "source": [
        "# Get the data\r\n",
        "log = pd.read_csv(\"/content/drive/MyDrive/Colab Notebooks/Login.csv\")\r\n",
        "\r\n",
        "# Twitter Api Credentials\r\n",
        "consumerKey = log[\"key\"][0]\r\n",
        "consumerSecret = log[\"key\"][1]\r\n",
        "accessToken = log[\"key\"][2]\r\n",
        "accessTokenSecret = log[\"key\"][3]"
      ],
      "execution_count": 13,
      "outputs": []
    },
    {
      "cell_type": "code",
      "metadata": {
        "id": "yNFZwRlnLT1b"
      },
      "source": [
        "# Create the authentication object\r\n",
        "authenticate = tweepy.OAuthHandler(consumerKey, consumerSecret) \r\n",
        "    \r\n",
        "# Set the access token and access token secret\r\n",
        "authenticate.set_access_token(accessToken, accessTokenSecret) \r\n",
        "    \r\n",
        "# Creating the API object while passing in auth information\r\n",
        "api = tweepy.API(authenticate, wait_on_rate_limit = True)\r\n"
      ],
      "execution_count": 15,
      "outputs": []
    },
    {
      "cell_type": "code",
      "metadata": {
        "colab": {
          "base_uri": "https://localhost:8080/"
        },
        "id": "PeqOcsh7MFIV",
        "outputId": "35c521f6-169f-498e-9772-ba41d5af747f"
      },
      "source": [
        "# Extract 100 tweets from the twitter user\r\n",
        "posts = api.user_timeline(screen_name=\"BillGates\", count = 100, lang =\"en\", tweet_mode=\"extended\")\r\n",
        "\r\n",
        "#  Print the last 5 tweets\r\n",
        "print(\"Show the 5 recent tweets:\\n\")\r\n",
        "i=1\r\n",
        "for tweet in posts[:5]:\r\n",
        "    print(str(i) +') '+ tweet.full_text + '\\n')\r\n",
        "    i= i+1"
      ],
      "execution_count": 18,
      "outputs": [
        {
          "output_type": "stream",
          "text": [
            "Show the 5 recent tweets:\n",
            "\n",
            "1) RT @codeorg: Only 3% of Black students learn computer science in high school or beyond. Please watch and share this video. Inspire a studen…\n",
            "\n",
            "2) RT @rajpanjabi: After being sworn in this morning, I'm honored to share that I've been appointed by @POTUS as the President’s Malaria Coord…\n",
            "\n",
            "3) When it comes to preventing pandemics, scientific tools alone aren’t enough. We also need new capabilities, including a global alert system and infectious disease first responders (or what I like to call a pandemic fire squad): https://t.co/53Rf5uvjub https://t.co/rTmM7STl6U\n",
            "\n",
            "4) COVID-19 has cost lives, sickened millions, and thrust the global economy into a devastating recession. But hope is on the horizon: https://t.co/clsscPwQUD https://t.co/sNl4kT9bE3\n",
            "\n",
            "5) This has been a year unlike any other in our lifetimes. In our new Annual Letter, Melinda and I talk about how we can turn the hard-won lessons of the pandemic into a healthier, more equal future for all. https://t.co/Zt42aWl86x\n",
            "\n"
          ],
          "name": "stdout"
        }
      ]
    },
    {
      "cell_type": "code",
      "metadata": {
        "colab": {
          "base_uri": "https://localhost:8080/",
          "height": 198
        },
        "id": "6EWWsTLGML00",
        "outputId": "cef5de26-e4d6-45a9-fa7f-e4ba658ff81f"
      },
      "source": [
        "# Create a dataframe with a column called Tweets\r\n",
        "df = pd.DataFrame([tweet.full_text for tweet in posts], columns=['Tweets'])\r\n",
        "# Show the first 5 rows of data\r\n",
        "df.head()"
      ],
      "execution_count": 19,
      "outputs": [
        {
          "output_type": "execute_result",
          "data": {
            "text/html": [
              "<div>\n",
              "<style scoped>\n",
              "    .dataframe tbody tr th:only-of-type {\n",
              "        vertical-align: middle;\n",
              "    }\n",
              "\n",
              "    .dataframe tbody tr th {\n",
              "        vertical-align: top;\n",
              "    }\n",
              "\n",
              "    .dataframe thead th {\n",
              "        text-align: right;\n",
              "    }\n",
              "</style>\n",
              "<table border=\"1\" class=\"dataframe\">\n",
              "  <thead>\n",
              "    <tr style=\"text-align: right;\">\n",
              "      <th></th>\n",
              "      <th>Tweets</th>\n",
              "    </tr>\n",
              "  </thead>\n",
              "  <tbody>\n",
              "    <tr>\n",
              "      <th>0</th>\n",
              "      <td>RT @codeorg: Only 3% of Black students learn c...</td>\n",
              "    </tr>\n",
              "    <tr>\n",
              "      <th>1</th>\n",
              "      <td>RT @rajpanjabi: After being sworn in this morn...</td>\n",
              "    </tr>\n",
              "    <tr>\n",
              "      <th>2</th>\n",
              "      <td>When it comes to preventing pandemics, scienti...</td>\n",
              "    </tr>\n",
              "    <tr>\n",
              "      <th>3</th>\n",
              "      <td>COVID-19 has cost lives, sickened millions, an...</td>\n",
              "    </tr>\n",
              "    <tr>\n",
              "      <th>4</th>\n",
              "      <td>This has been a year unlike any other in our l...</td>\n",
              "    </tr>\n",
              "  </tbody>\n",
              "</table>\n",
              "</div>"
            ],
            "text/plain": [
              "                                              Tweets\n",
              "0  RT @codeorg: Only 3% of Black students learn c...\n",
              "1  RT @rajpanjabi: After being sworn in this morn...\n",
              "2  When it comes to preventing pandemics, scienti...\n",
              "3  COVID-19 has cost lives, sickened millions, an...\n",
              "4  This has been a year unlike any other in our l..."
            ]
          },
          "metadata": {
            "tags": []
          },
          "execution_count": 19
        }
      ]
    }
  ]
}